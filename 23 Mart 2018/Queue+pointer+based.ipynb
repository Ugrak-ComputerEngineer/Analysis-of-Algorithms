{
 "cells": [
  {
   "cell_type": "code",
   "execution_count": 12,
   "metadata": {},
   "outputs": [],
   "source": [
    "#c++ da stil c++ ,diğer dillerde collections diye geeçiyor\n",
    "#14*****41 yani herhangi bir numaranın 6 ya göre modu alındı ve queuque yapısında enque,deque olacak.\n"
   ]
  },
  {
   "cell_type": "code",
   "execution_count": 13,
   "metadata": {},
   "outputs": [
    {
     "name": "stdout",
     "output_type": "stream",
     "text": [
      "True\n",
      "True\n",
      "True\n",
      "True\n",
      "True\n",
      "True\n",
      "True\n",
      "Queue Full!\n",
      "Queue Full!\n",
      "14\n",
      "21\n",
      "37\n",
      "49\n",
      "55\n",
      "67\n",
      "73\n",
      "Queue Empty!\n",
      "Queue Empty!\n"
     ]
    }
   ],
   "source": [
    "class Queue:\n",
    "\n",
    "    #Constructor\n",
    "    def __init__(self):\n",
    "        self.queue = list()\n",
    "        self.head = 0\n",
    "        self.tail = 0\n",
    "        self.maxSize = 8\n",
    "\n",
    "    #Adding elements to the queue\n",
    "    def enqueue(self,data):\n",
    "        if self.size() == self.maxSize-1:\n",
    "            return (\"Queue Full!\")\n",
    "        self.queue.append(data)\n",
    "        self.tail = (self.tail + 1) % self.maxSize\n",
    "        return True\n",
    "\n",
    "    #Removing elements from the queue\n",
    "    def dequeue(self):\n",
    "        if self.size()==0:\n",
    "            return (\"Queue Empty!\") \n",
    "        data = self.queue[self.head]\n",
    "        self.head = (self.head + 1) % self.maxSize\n",
    "        return data\n",
    "\n",
    "    #Calculating the size of the queue\n",
    "    def size(self):\n",
    "        if self.tail>=self.head:\n",
    "            return (self.tail-self.head)\n",
    "        return (self.maxSize - (self.head-self.tail))\n",
    "\n",
    "q = CircularQueue()\n",
    "print(q.enqueue(14))\n",
    "print(q.enqueue(21))\n",
    "print(q.enqueue(37))\n",
    "print(q.enqueue(49))\n",
    "print(q.enqueue(55))\n",
    "print(q.enqueue(67))\n",
    "print(q.enqueue(73))\n",
    "print(q.enqueue(81))\n",
    "print(q.enqueue(99))\n",
    "print(q.dequeue())\n",
    "print(q.dequeue())\n",
    "print(q.dequeue())\n",
    "print(q.dequeue())\n",
    "print(q.dequeue())\n",
    "print(q.dequeue())\n",
    "print(q.dequeue())\n",
    "print(q.dequeue())\n",
    "print(q.dequeue())"
   ]
  },
  {
   "cell_type": "code",
   "execution_count": null,
   "metadata": {
    "collapsed": true
   },
   "outputs": [],
   "source": []
  }
 ],
 "metadata": {
  "kernelspec": {
   "display_name": "Python 3",
   "language": "python",
   "name": "python3"
  },
  "language_info": {
   "codemirror_mode": {
    "name": "ipython",
    "version": 3
   },
   "file_extension": ".py",
   "mimetype": "text/x-python",
   "name": "python",
   "nbconvert_exporter": "python",
   "pygments_lexer": "ipython3",
   "version": "3.6.1"
  }
 },
 "nbformat": 4,
 "nbformat_minor": 2
}
