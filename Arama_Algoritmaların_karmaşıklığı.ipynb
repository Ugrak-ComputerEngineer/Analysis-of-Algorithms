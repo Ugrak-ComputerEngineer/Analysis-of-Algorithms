{
 "cells": [
  {
   "cell_type": "code",
   "execution_count": 16,
   "metadata": {},
   "outputs": [],
   "source": [
    "def createRandom(n):\n",
    "    import random\n",
    "    myarray=[]\n",
    "    for i in range(n):\n",
    "        myarray.append(random.randint(0,100))\n",
    "    return myarray\n",
    "createRandom(5)\n",
    "\n",
    "def myBubble_Sort(my_array):\n",
    "    number_of_comparison=0\n",
    "    for passnum in range(len(my_array)-1,0,-1):\n",
    "        for i in range(passnum):\n",
    "            number_of_comparison=number_of_comparison+1\n",
    "            if my_array[i]>my_array[i+1]:\n",
    "                temp = my_array[i]\n",
    "                my_array[i] = my_array[i+1]\n",
    "                my_array[i+1] = temp\n",
    "    return (my_array,number_of_comparison)\n",
    "\n",
    "def insertionSort(alist):\n",
    "    number_of_comparision=0\n",
    "    for index in range(1,len(alist)):\n",
    "\n",
    "        currentvalue = alist[index]\n",
    "        position = index\n",
    "\n",
    "        while position>0 and alist[position-1]>currentvalue:\n",
    "            number_of_comparision=number_of_comparision+1\n",
    "            alist[position]=alist[position-1]\n",
    "            position = position-1\n",
    "\n",
    "    alist[position]=currentvalue\n",
    "    return(alist,number_of_comparision)\n"
   ]
  },
  {
   "cell_type": "code",
   "execution_count": 14,
   "metadata": {},
   "outputs": [
    {
     "name": "stdout",
     "output_type": "stream",
     "text": [
      "([1, 23, 35, 38, 43, 67, 74, 84, 89, 94], 45)\n",
      "([10, 34, 38, 53, 53, 66, 71, 71, 91, 92], 45)\n",
      "([17, 21, 29, 33, 50, 52, 81, 82, 83, 98], 45)\n"
     ]
    }
   ],
   "source": [
    "n=10\n",
    "for i in range(3):\n",
    "    print(myBubble_Sort(createRandom(n)))"
   ]
  },
  {
   "cell_type": "code",
   "execution_count": null,
   "metadata": {
    "collapsed": true
   },
   "outputs": [],
   "source": []
  },
  {
   "cell_type": "code",
   "execution_count": null,
   "metadata": {
    "collapsed": true
   },
   "outputs": [],
   "source": []
  },
  {
   "cell_type": "code",
   "execution_count": null,
   "metadata": {
    "collapsed": true
   },
   "outputs": [],
   "source": []
  },
  {
   "cell_type": "code",
   "execution_count": 17,
   "metadata": {},
   "outputs": [
    {
     "name": "stdout",
     "output_type": "stream",
     "text": [
      "----------bubbleSort----------------\n",
      "----------old list baby-------------\n",
      "[9, 4, 7, 0, 5]\n",
      "----------new list baby-------------\n",
      "\n",
      "[0, 4, 5, 7, 9]\n",
      "----------insertionSort----------------\n",
      "----------old list baby-------------\n",
      "[7, 5, 7, 6, 2]\n",
      "----------new list baby-------------\n",
      "[2, 5, 6, 7, 7]\n"
     ]
    }
   ],
   "source": [
    "from random import randrange\n",
    "\n",
    "def createRandomList(n):\n",
    "    myarray = []\n",
    "    for i in range(n):\n",
    "        foo = [0,1,2,3,4,5,6,7,8,9]\n",
    "        random_index = randrange(0,len(foo))\n",
    "        myarray.append(foo[random_index])\n",
    "    return myarray\n",
    "\n",
    "def bubbleSort(alist):\n",
    "    for passnum in range(len(alist)-1,0,-1):\n",
    "        for i in range(passnum):\n",
    "            if alist[i]>alist[i+1]:\n",
    "                temp = alist[i]\n",
    "                alist[i] = alist[i+1]\n",
    "                alist[i+1] = temp\n",
    "\n",
    "def insertionSort(alist):\n",
    "   for index in range(1,len(alist)):\n",
    "     currentvalue = alist[index]\n",
    "     position = index\n",
    "     while position>0 and alist[position-1]>currentvalue:\n",
    "         alist[position]=alist[position-1]\n",
    "         position = position-1\n",
    "     alist[position]=currentvalue\n",
    "\n",
    "newArray = createRandomList(5)\n",
    "print(\"----------bubbleSort----------------\")\n",
    "print(\"----------old list baby-------------\")\n",
    "print(newArray)\n",
    "bubbleSort(newArray)\n",
    "print(\"----------new list baby-------------\\n\")\n",
    "print(newArray)\n",
    "\n",
    "newArray = createRandomList(5)\n",
    "print(\"----------insertionSort----------------\")\n",
    "print(\"----------old list baby-------------\")\n",
    "print(newArray)\n",
    "insertionSort(newArray)\n",
    "print(\"----------new list baby-------------\")\n",
    "print(newArray)"
   ]
  },
  {
   "cell_type": "code",
   "execution_count": 43,
   "metadata": {},
   "outputs": [
    {
     "name": "stdout",
     "output_type": "stream",
     "text": [
      "----------bubbleSort----------------\n",
      "----------old list baby-------------\n",
      "[5, 7, 1, 9, 6, 2, 4, 3, 8, 0, 9, 2, 8, 7, 2, 1, 0, 0, 0, 7, 2, 5, 7, 1, 1, 2, 1, 8, 7, 5, 1, 6, 0, 3, 1, 9, 2, 0, 6, 3, 7, 9, 9, 1, 9, 2, 2, 7, 4, 2]\n",
      "----------new list baby-------------\n",
      "\n",
      "[0, 0, 0, 0, 0, 0, 1, 1, 1, 1, 1, 1, 1, 1, 2, 2, 2, 2, 2, 2, 2, 2, 2, 3, 3, 3, 4, 4, 5, 5, 5, 6, 6, 6, 7, 7, 7, 7, 7, 7, 7, 8, 8, 8, 9, 9, 9, 9, 9, 9]\n",
      "----------step =  541 -------------\n",
      "\n",
      "----------insertionSort----------------\n",
      "----------old list baby-------------\n",
      "[6, 5, 5, 6, 4, 3, 9, 6, 0, 4, 3, 7, 5, 3, 2, 7, 4, 0, 2, 3, 0, 3, 7, 4, 6, 5, 4, 5, 3, 8, 6, 5, 5, 6, 6, 7, 0, 0, 7, 9, 6, 8, 2, 6, 7, 9, 7, 7, 1, 6]\n",
      "----------new list baby-------------\n",
      "[0, 0, 0, 0, 0, 1, 2, 2, 2, 3, 3, 3, 3, 3, 3, 4, 4, 4, 4, 4, 5, 5, 5, 5, 5, 5, 5, 6, 6, 6, 6, 6, 6, 6, 6, 6, 6, 7, 7, 7, 7, 7, 7, 7, 7, 8, 8, 9, 9, 9]\n",
      "----------step =  437 -------------\n"
     ]
    }
   ],
   "source": [
    "from random import randrange\n",
    "\n",
    "def createRandomList(n):\n",
    "    myarray = []\n",
    "    for i in range(n):\n",
    "        foo = [0,1,2,3,4,5,6,7,8,9]\n",
    "        random_index = randrange(0,len(foo))\n",
    "        myarray.append(foo[random_index])\n",
    "    return myarray\n",
    "\n",
    "def bubbleSort(alist):\n",
    "    step = 0\n",
    "    for passnum in range(len(alist)-1,0,-1):\n",
    "        for i in range(passnum):\n",
    "            if alist[i]>alist[i+1]:\n",
    "                step += 1\n",
    "                temp = alist[i]\n",
    "                alist[i] = alist[i+1]\n",
    "                alist[i+1] = temp\n",
    "    return step\n",
    "def insertionSort(alist):\n",
    "   step = 0\n",
    "   for index in range(1,len(alist)):\n",
    "     currentvalue = alist[index]\n",
    "     position = index\n",
    "     while position>0 and alist[position-1]>currentvalue:\n",
    "         step += 1\n",
    "         alist[position]=alist[position-1]\n",
    "         position = position-1\n",
    "     alist[position]=currentvalue\n",
    "   return step\n",
    "\n",
    "newArray = createRandomList(50)\n",
    "print(\"----------bubbleSort----------------\")\n",
    "print(\"----------old list baby-------------\")\n",
    "print(newArray)\n",
    "step = bubbleSort(newArray)\n",
    "print(\"----------new list baby-------------\\n\")\n",
    "print(newArray)\n",
    "print(\"----------step = \" , step , \"-------------\\n\")\n",
    "\n",
    "newArray = createRandomList(50)\n",
    "print(\"----------insertionSort----------------\")\n",
    "print(\"----------old list baby-------------\")\n",
    "print(newArray)\n",
    "step = insertionSort(newArray)\n",
    "print(\"----------new list baby-------------\")\n",
    "print(newArray)\n",
    "print(\"----------step = \" , step , \"-------------\")"
   ]
  },
  {
   "cell_type": "code",
   "execution_count": 55,
   "metadata": {},
   "outputs": [
    {
     "name": "stdout",
     "output_type": "stream",
     "text": [
      "----------bubbleSort----------------\n",
      "----------old list baby-------------\n",
      "[15, 26, 9, 14, 9, 20, 13, 3, 33, 11, 18, 50, 15, 36, 17, 35, 5, 11, 21, 7, 11, 7, 26, 17, 33, 16, 7, 7, 45, 23]\n",
      "----------new list baby-------------\n",
      "[3, 5, 7, 7, 7, 7, 9, 9, 11, 11, 11, 13, 14, 15, 15, 16, 17, 17, 18, 20, 21, 23, 26, 26, 33, 33, 35, 36, 45, 50]\n",
      "----------step =  203 -------------\n",
      "\n",
      "----------insertionSort----------------\n",
      "----------old list baby-------------\n",
      "[29, 43, 15, 5, 37, 31, 37, 36, 19, 8, 14, 35, 35, 0, 47, 10, 15, 1, 22, 34, 7, 26, 35, 12, 46, 44, 45, 26, 20, 50]\n",
      "----------new list baby-------------\n",
      "[0, 1, 5, 7, 8, 10, 12, 14, 15, 15, 19, 20, 22, 26, 26, 29, 31, 34, 35, 35, 35, 36, 37, 37, 43, 44, 45, 46, 47, 50]\n",
      "----------step =  194 -------------\n"
     ]
    }
   ],
   "source": [
    "from random import randrange\n",
    "\n",
    "def createRandomList(n):\n",
    "    myarray = []\n",
    "    for i in range(n):\n",
    "        foo = [0,1,2,3,4,5,6,7,8,9,10,11,12,13,14,15,16,17,18,19,20,21,22,23,24,25,26,27,28,29,30,31,32,33,34,35,36,37,38,39,40,41,42,43,44,45,46,47,48,49,50]\n",
    "        random_index = randrange(0,len(foo))\n",
    "        myarray.append(foo[random_index])\n",
    "    return myarray\n",
    "\n",
    "def bubbleSort(alist):\n",
    "    step = 0\n",
    "    for passnum in range(len(alist)-1,0,-1):\n",
    "        for i in range(passnum):\n",
    "            if alist[i]>alist[i+1]:\n",
    "                step += 1\n",
    "                temp = alist[i]\n",
    "                alist[i] = alist[i+1]\n",
    "                alist[i+1] = temp\n",
    "    return step\n",
    "def insertionSort(alist):\n",
    "   step = 0\n",
    "   for index in range(1,len(alist)):\n",
    "     currentvalue = alist[index]\n",
    "     position = index\n",
    "     while position>0 and alist[position-1]>currentvalue:\n",
    "         step += 1\n",
    "         alist[position]=alist[position-1]\n",
    "         position = position-1\n",
    "     alist[position]=currentvalue\n",
    "   return step\n",
    "\n",
    "newArray = createRandomList(30)\n",
    "print(\"----------bubbleSort----------------\")\n",
    "print(\"----------old list baby-------------\")\n",
    "print(newArray)\n",
    "step = bubbleSort(newArray)\n",
    "print(\"----------new list baby-------------\")\n",
    "print(newArray)\n",
    "print(\"----------step = \" , step , \"-------------\\n\")\n",
    "\n",
    "newArray = createRandomList(30)\n",
    "print(\"----------insertionSort----------------\")\n",
    "print(\"----------old list baby-------------\")\n",
    "print(newArray)\n",
    "step = insertionSort(newArray)\n",
    "print(\"----------new list baby-------------\")\n",
    "print(newArray)\n",
    "print(\"----------step = \" , step , \"-------------\")"
   ]
  },
  {
   "cell_type": "code",
   "execution_count": null,
   "metadata": {
    "collapsed": true
   },
   "outputs": [],
   "source": []
  }
 ],
 "metadata": {
  "kernelspec": {
   "display_name": "Python 3",
   "language": "python",
   "name": "python3"
  },
  "language_info": {
   "codemirror_mode": {
    "name": "ipython",
    "version": 3
   },
   "file_extension": ".py",
   "mimetype": "text/x-python",
   "name": "python",
   "nbconvert_exporter": "python",
   "pygments_lexer": "ipython3",
   "version": "3.6.1"
  }
 },
 "nbformat": 4,
 "nbformat_minor": 2
}
