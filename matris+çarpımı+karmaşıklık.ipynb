{
 "cells": [
  {
   "cell_type": "code",
   "execution_count": 3,
   "metadata": {},
   "outputs": [
    {
     "name": "stdout",
     "output_type": "stream",
     "text": [
      "[1, 2, 3, 4, 5, 6, 2, 4, 6, 8, 10, 12, 3, 6, 9, 12, 15, 18, 4, 8, 12, 16, 20, 24, 5, 10, 15, 20, 25, 30, 6, 12, 18, 24, 30, 36]\n"
     ]
    }
   ],
   "source": [
    "if __name__ == '__main__':\n",
    "    matris1      = [[1, 2, 3],[4, 5, 6]]\n",
    "    matris2      = [[1, 2, 3],[4, 5, 6]]\n",
    "    carpimMatris = []\n",
    "    for mat2 in matris2:\n",
    "        for eleman2 in mat2:\n",
    "            for mat1 in matris1:\n",
    "                for eleman1 in mat1:\n",
    "                    carpimMatris.append(eleman1 * eleman2)\n",
    "    print (carpimMatris) "
   ]
  },
  {
   "cell_type": "code",
   "execution_count": null,
   "metadata": {
    "collapsed": true
   },
   "outputs": [],
   "source": []
  },
  {
   "cell_type": "code",
   "execution_count": null,
   "metadata": {
    "collapsed": true
   },
   "outputs": [],
   "source": [
    "from random import randint\n",
    "print(randint(0,9))"
   ]
  },
  {
   "cell_type": "code",
   "execution_count": null,
   "metadata": {
    "collapsed": true
   },
   "outputs": [],
   "source": []
  },
  {
   "cell_type": "code",
   "execution_count": null,
   "metadata": {
    "collapsed": true
   },
   "outputs": [],
   "source": []
  },
  {
   "cell_type": "code",
   "execution_count": null,
   "metadata": {
    "collapsed": true
   },
   "outputs": [],
   "source": []
  },
  {
   "cell_type": "code",
   "execution_count": 38,
   "metadata": {
    "collapsed": true
   },
   "outputs": [],
   "source": [
    "from random import randint"
   ]
  },
  {
   "cell_type": "code",
   "execution_count": 39,
   "metadata": {},
   "outputs": [
    {
     "data": {
      "text/plain": [
       "[0, 6, 2, 1, 1]"
      ]
     },
     "execution_count": 39,
     "metadata": {},
     "output_type": "execute_result"
    }
   ],
   "source": [
    "def create_A_vector(size): #size\n",
    "    my_vector=[]\n",
    "    for i in range(size):\n",
    "        my_vector.append(randint(0,9))\n",
    "        \n",
    "    return my_vector\n",
    "my_vector_1=create_A_vector(5)\n",
    "my_vector_1"
   ]
  },
  {
   "cell_type": "code",
   "execution_count": 43,
   "metadata": {},
   "outputs": [
    {
     "data": {
      "text/plain": [
       "[[3, 6, 6], [9, 6, 4]]"
      ]
     },
     "execution_count": 43,
     "metadata": {},
     "output_type": "execute_result"
    }
   ],
   "source": [
    "def create_a_matrix(m,n):\n",
    "    my_matrix=[]\n",
    "    for i in range(m):\n",
    "        my_matrix.append(create_A_vector(n))\n",
    "    return my_matrix\n",
    "a=create_a_matrix(2,3)\n",
    "a"
   ]
  },
  {
   "cell_type": "code",
   "execution_count": null,
   "metadata": {},
   "outputs": [],
   "source": []
  },
  {
   "cell_type": "code",
   "execution_count": 47,
   "metadata": {},
   "outputs": [
    {
     "name": "stdout",
     "output_type": "stream",
     "text": [
      "([[61, 69, 16, 60, 75], [66, 76, 25, 53, 111]], 30)\n"
     ]
    }
   ],
   "source": [
    "def matrix_multiplication(a,b):\n",
    "    m=len(a)\n",
    "    n=len(a[0])\n",
    "    # n is also rows of the b\n",
    "    p=len(b[0])\n",
    "    \n",
    "    my_matrix=create_a_matrix(m,p)\n",
    "    \n",
    "    for i in range(m):\n",
    "        for j in range(p):\n",
    "            \n",
    "            vector_1=a[i]\n",
    "            vector_2=[i[j] for i in b]\n",
    "            \n",
    "            my_matrix[i][j]=vector_inner_product(vector_1,vector_2)\n",
    "    \n",
    "    return (my_matrix,m*n*p)\n",
    "\n",
    "a=create_a_matrix(2,3)\n",
    "b=create_a_matrix(3,5)\n",
    "c=matrix_multiplication(a,b)\n",
    "print (c)\n",
    "\n",
    "    "
   ]
  },
  {
   "cell_type": "code",
   "execution_count": 30,
   "metadata": {},
   "outputs": [
    {
     "data": {
      "text/plain": [
       "[[2, 0, 7], [0, 5, 7]]"
      ]
     },
     "execution_count": 30,
     "metadata": {},
     "output_type": "execute_result"
    }
   ],
   "source": [
    "a"
   ]
  },
  {
   "cell_type": "code",
   "execution_count": 31,
   "metadata": {},
   "outputs": [
    {
     "data": {
      "text/plain": [
       "[[3, 7, 9, 4, 4, 0, 5, 1, 6, 1],\n",
       " [1, 1, 2, 1, 4, 5, 7, 4, 1, 7],\n",
       " [4, 4, 3, 3, 2, 8, 4, 9, 2, 9],\n",
       " [3, 5, 4, 7, 2, 2, 6, 0, 6, 3],\n",
       " [5, 8, 3, 9, 2, 0, 3, 1, 1, 5]]"
      ]
     },
     "execution_count": 31,
     "metadata": {},
     "output_type": "execute_result"
    }
   ],
   "source": [
    "b"
   ]
  },
  {
   "cell_type": "code",
   "execution_count": null,
   "metadata": {
    "collapsed": true
   },
   "outputs": [],
   "source": []
  },
  {
   "cell_type": "code",
   "execution_count": null,
   "metadata": {},
   "outputs": [],
   "source": []
  },
  {
   "cell_type": "code",
   "execution_count": 15,
   "metadata": {
    "collapsed": true
   },
   "outputs": [],
   "source": [
    "def vector_inner_product(v1,v2):\n",
    "    if (len(v1)!=len(v2)):\n",
    "        print(\"vektörler aynı boyutta olmalı\")\n",
    "        return\n",
    "    result=0\n",
    "    for i in range(len(v1)):\n",
    "        result=result+v1[i]*v2[i]\n",
    "    return result"
   ]
  },
  {
   "cell_type": "code",
   "execution_count": 16,
   "metadata": {},
   "outputs": [
    {
     "name": "stdout",
     "output_type": "stream",
     "text": [
      "[3, 9, 0, 9, 3] [3, 1, 2, 3, 8]\n"
     ]
    },
    {
     "data": {
      "text/plain": [
       "69"
      ]
     },
     "execution_count": 16,
     "metadata": {},
     "output_type": "execute_result"
    }
   ],
   "source": [
    "my_vector_1=create_A_vector(5)\n",
    "my_vector_2=create_A_vector(5)\n",
    "print (my_vector_1,my_vector_2)\n",
    "vector_product=vector_inner_product(my_vector_1,my_vector_2)\n",
    "vector_product"
   ]
  },
  {
   "cell_type": "code",
   "execution_count": null,
   "metadata": {
    "collapsed": true
   },
   "outputs": [],
   "source": []
  },
  {
   "cell_type": "code",
   "execution_count": 55,
   "metadata": {},
   "outputs": [
    {
     "name": "stdout",
     "output_type": "stream",
     "text": [
      "([[119606926, 90151489, 66944175]], 15) toplam islem sayisi:  10030\n"
     ]
    }
   ],
   "source": [
    "a_1= create_a_matrix(1,10)\n",
    "a_2= create_a_matrix(10,1000)\n",
    "a_3= create_a_matrix(1000,1)\n",
    "a_4= create_a_matrix(1,5)\n",
    "a_5= create_a_matrix(5,3)\n",
    "\n",
    "islem_sayisi=0\n",
    "r_1=matrix_multiplication(a_2,a_3)\n",
    "islem_sayisi=islem_sayisi+r_1[1]\n",
    "\n",
    "r_1=matrix_multiplication(a_1,r_1[0])\n",
    "islem_sayisi=islem_sayisi+r_1[1]\n",
    "\n",
    "r_1=matrix_multiplication(r_1[0],a_4)\n",
    "islem_sayisi=islem_sayisi+r_1[1]\n",
    "\n",
    "r_1=matrix_multiplication(r_1[0],a_5)\n",
    "islem_sayisi=islem_sayisi+r_1[1]\n",
    "\n",
    "print (r_1,\"toplam islem sayisi: \",islem_sayisi)\n"
   ]
  },
  {
   "cell_type": "code",
   "execution_count": 59,
   "metadata": {},
   "outputs": [
    {
     "name": "stdout",
     "output_type": "stream",
     "text": [
      "([[3782520, 3384360, 4678380]], 15) toplam islem sayisi:  1021\n"
     ]
    }
   ],
   "source": [
    "a_1= create_a_matrix(1,1000)\n",
    "a_2= create_a_matrix(1000,1)\n",
    "a_3= create_a_matrix(1,1)\n",
    "a_4= create_a_matrix(1,5)\n",
    "a_5= create_a_matrix(5,3)\n",
    "\n",
    "islem_sayisi=0\n",
    "r_1=matrix_multiplication(a_1,a_2)\n",
    "islem_sayisi=islem_sayisi+r_1[1]\n",
    "\n",
    "r_1=matrix_multiplication(r_1[0],a_3)\n",
    "islem_sayisi=islem_sayisi+r_1[1]\n",
    "\n",
    "r_1=matrix_multiplication(r_1[0],a_4)\n",
    "islem_sayisi=islem_sayisi+r_1[1]\n",
    "\n",
    "r_1=matrix_multiplication(r_1[0],a_5)\n",
    "islem_sayisi=islem_sayisi+r_1[1]\n",
    "\n",
    "print (r_1,\"toplam islem sayisi: \",islem_sayisi)\n"
   ]
  },
  {
   "cell_type": "code",
   "execution_count": 61,
   "metadata": {},
   "outputs": [
    {
     "name": "stdout",
     "output_type": "stream",
     "text": [
      "([[48692045, 27119620, 65949985]], 30) toplam islem sayisi:  10230\n"
     ]
    }
   ],
   "source": [
    "a_1= create_a_matrix(1,10)\n",
    "a_2= create_a_matrix(10,1000)\n",
    "a_3= create_a_matrix(1000,1)\n",
    "a_4= create_a_matrix(1,5)\n",
    "a_5= create_a_matrix(5,3)\n",
    "\n",
    "islem_sayisi=0\n",
    "r_1=matrix_multiplication(a_2,a_3)\n",
    "islem_sayisi=islem_sayisi+r_1[1]\n",
    "\n",
    "r_1=matrix_multiplication(r_1[0],a_4)\n",
    "islem_sayisi=islem_sayisi+r_1[1]\n",
    "\n",
    "r_1=matrix_multiplication(r_1[0],a_5)\n",
    "islem_sayisi=islem_sayisi+r_1[1]\n",
    "\n",
    "r_1=matrix_multiplication(a_1,r_1[0])\n",
    "islem_sayisi=islem_sayisi+r_1[1]\n",
    "\n",
    "print (r_1,\"toplam islem sayisi: \",islem_sayisi)\n"
   ]
  },
  {
   "cell_type": "code",
   "execution_count": null,
   "metadata": {
    "collapsed": true
   },
   "outputs": [],
   "source": []
  }
 ],
 "metadata": {
  "kernelspec": {
   "display_name": "Python 3",
   "language": "python",
   "name": "python3"
  },
  "language_info": {
   "codemirror_mode": {
    "name": "ipython",
    "version": 3
   },
   "file_extension": ".py",
   "mimetype": "text/x-python",
   "name": "python",
   "nbconvert_exporter": "python",
   "pygments_lexer": "ipython3",
   "version": "3.6.1"
  }
 },
 "nbformat": 4,
 "nbformat_minor": 2
}
