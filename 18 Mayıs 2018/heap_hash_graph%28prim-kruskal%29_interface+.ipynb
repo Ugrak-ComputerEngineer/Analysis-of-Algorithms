{
 "cells": [
  {
   "cell_type": "code",
   "execution_count": null,
   "metadata": {
    "collapsed": true
   },
   "outputs": [],
   "source": [
    "#1)heap,hash,graph(prim,kruskal) interface tanımlanacak.\n",
    "#2)QR decomposition of a Matris"
   ]
  },
  {
   "cell_type": "code",
   "execution_count": null,
   "metadata": {
    "collapsed": true
   },
   "outputs": [],
   "source": [
    "#1)heap,hash,graph(prim,kruskal) interface tanımlanacak.\n",
    "\n",
    "#Heap İnterface  \n",
    "    \n",
    "    The ADT Heap\n",
    "\n",
    "Interface used for implementation of\n",
    "maxheap\n",
    "\n",
    " public interface MaxHeapinterface\n",
    "  public void add(Comparable newEntry);\n",
    "  public Comparable removeMax();\n",
    "  public Comparable getMax();\n",
    "  public boolean isEmpty();\n",
    "  public int getSize();\n",
    "  public void clear();\n",
    " } I/ end MaxHeapinterface\n",
    "\n",
    "\n",
    "#Hash İnterface\n",
    "\n",
    "\n",
    "\"hash\" ADT: interface\n",
    "\n",
    "#ifndef HASH_H\n",
    "#define HASH H\n",
    "\n",
    "typedef struct hash *hash;\n",
    "\n",
    "hash newHash ();\n",
    "hash newHash2 (double lf);\n",
    "void insert (hash h, poly key, poly value);\n",
    "poly lookup (hash h, poly key);\n",
    "void delete (hash h, poly key);\n",
    "\n",
    "#endif\n",
    "\n",
    "\n",
    "#Graph İnterface\n",
    "\n",
    "\n",
    "public interface Graph {\n",
    "    public Graph createGraph(String name, int ID, Node[] nodes, Edge[] edges, Node root);\n",
    "    public String getName();\n",
    "    public Edge[] getEdges();\n",
    "    public void addEdge(Edge e);\n",
    "    public Edge getEdge(String name, int ID);\n",
    "    public void removeEdge(Edge e);\n",
    "    public Node[] getNodes();\n",
    "    public void addNode(Node n);\n",
    "    public Node getNode(String name, int ID);\n",
    "    public void removeNode(Node n);\n",
    "    public void setRoot(Node n);\n",
    "    public Node getRoot();  \n",
    "    public boolean isTree();        <= optional!\n",
    "    public String toString();"
   ]
  },
  {
   "cell_type": "code",
   "execution_count": 1,
   "metadata": {},
   "outputs": [
    {
     "name": "stdout",
     "output_type": "stream",
     "text": [
      "q:\n",
      " [[-0.857143  0.394286  0.331429]\n",
      " [-0.428571 -0.902857 -0.034286]\n",
      " [ 0.285714 -0.171429  0.942857]]\n",
      "r:\n",
      " [[ -14.  -21.   14.]\n",
      " [   0. -175.   70.]\n",
      " [   0.   -0.  -35.]]\n",
      "\n",
      "polyfit:\n",
      " [ 1.  2.  3.]\n"
     ]
    }
   ],
   "source": [
    "#2)QR decomposition of a Matris\n",
    "\n",
    "import numpy as np\n",
    " \n",
    "def qr(A):\n",
    "    m, n = A.shape\n",
    "    Q = np.eye(m)\n",
    "    for i in range(n - (m == n)):\n",
    "        H = np.eye(m)\n",
    "        H[i:, i:] = make_householder(A[i:, i])\n",
    "        Q = np.dot(Q, H)\n",
    "        A = np.dot(H, A)\n",
    "    return Q, A\n",
    " \n",
    "def make_householder(a):\n",
    "    v = a / (a[0] + np.copysign(np.linalg.norm(a), a[0]))\n",
    "    v[0] = 1\n",
    "    H = np.eye(a.shape[0])\n",
    "    H -= (2 / np.dot(v, v)) * np.dot(v[:, None], v[None, :])\n",
    "    return H\n",
    " \n",
    "# task 1: show qr decomp of wp example\n",
    "a = np.array(((\n",
    "    (12, -51,   4),\n",
    "    ( 6, 167, -68),\n",
    "    (-4,  24, -41),\n",
    ")))\n",
    " \n",
    "q, r = qr(a)\n",
    "print('q:\\n', q.round(6))\n",
    "print('r:\\n', r.round(6))\n",
    " \n",
    "# task 2: use qr decomp for polynomial regression example\n",
    "def polyfit(x, y, n):\n",
    "    return lsqr(x[:, None]**np.arange(n + 1), y.T)\n",
    " \n",
    "def lsqr(a, b):\n",
    "    q, r = qr(a)\n",
    "    _, n = r.shape\n",
    "    return np.linalg.solve(r[:n, :], np.dot(q.T, b)[:n])\n",
    " \n",
    "x = np.array((0, 1, 2, 3, 4, 5, 6, 7, 8, 9, 10))\n",
    "y = np.array((1, 6, 17, 34, 57, 86, 121, 162, 209, 262, 321))\n",
    " \n",
    "print('\\npolyfit:\\n', polyfit(x, y, 2))"
   ]
  },
  {
   "cell_type": "code",
   "execution_count": null,
   "metadata": {},
   "outputs": [],
   "source": []
  },
  {
   "cell_type": "code",
   "execution_count": null,
   "metadata": {
    "collapsed": true
   },
   "outputs": [],
   "source": []
  }
 ],
 "metadata": {
  "kernelspec": {
   "display_name": "Python 3",
   "language": "python",
   "name": "python3"
  },
  "language_info": {
   "codemirror_mode": {
    "name": "ipython",
    "version": 3
   },
   "file_extension": ".py",
   "mimetype": "text/x-python",
   "name": "python",
   "nbconvert_exporter": "python",
   "pygments_lexer": "ipython3",
   "version": "3.6.1"
  }
 },
 "nbformat": 4,
 "nbformat_minor": 2
}
