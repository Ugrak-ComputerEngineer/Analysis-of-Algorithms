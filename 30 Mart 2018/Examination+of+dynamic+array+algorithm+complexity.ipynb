{
 "cells": [
  {
   "cell_type": "code",
   "execution_count": 1,
   "metadata": {
    "collapsed": true
   },
   "outputs": [],
   "source": [
    "class DynamicArray:\n",
    "    #A dynamic array class akin to a simplified Python list.\n",
    "    \n",
    "    def __init__(self):\n",
    "        #Create an empty array.\n",
    "        self._n=0\n",
    "        self._capacity=1\n",
    "        self._A=self._make_array(self._capacity)\n",
    "        \n",
    "    def __len__(self):\n",
    "        #Return number of elements stored in the array.\n",
    "        return self._n\n",
    "    \n",
    "    def __getitem__(self,k):\n",
    "        #Return element at index k.\n",
    "        if not 0<=k<self._n:\n",
    "            raise IndexError('invalid index')\n",
    "        return self._A[k]\n",
    "    \n",
    "    def append(self,obj):\n",
    "        #Add object to end of the array.\n",
    "        if self._n==self._capacity:\n",
    "            self._resize(2*self._capacity)\n",
    "        self._A[self._n]=obj\n",
    "        self._n+=1\n",
    "    \n",
    "    def _resize(self,c):\n",
    "        #Resize internal array to capacity c.\n",
    "        B=self._make_array(c)\n",
    "        for k in range(self._n):\n",
    "            B[k]=self._A[k]\n",
    "        self._A=B\n",
    "        self._capacity=c\n",
    "        \n",
    "    def _make_array(self,c):\n",
    "        #Return new array with capacity c.\n",
    "        return (c*ctypes.py_object)()"
   ]
  },
  {
   "cell_type": "code",
   "execution_count": null,
   "metadata": {
    "collapsed": true
   },
   "outputs": [],
   "source": []
  }
 ],
 "metadata": {
  "kernelspec": {
   "display_name": "Python 3",
   "language": "python",
   "name": "python3"
  },
  "language_info": {
   "codemirror_mode": {
    "name": "ipython",
    "version": 3
   },
   "file_extension": ".py",
   "mimetype": "text/x-python",
   "name": "python",
   "nbconvert_exporter": "python",
   "pygments_lexer": "ipython3",
   "version": "3.6.1"
  }
 },
 "nbformat": 4,
 "nbformat_minor": 2
}
