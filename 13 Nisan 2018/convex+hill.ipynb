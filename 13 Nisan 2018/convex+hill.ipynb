{
 "cells": [
  {
   "cell_type": "code",
   "execution_count": 3,
   "metadata": {},
   "outputs": [
    {
     "name": "stdout",
     "output_type": "stream",
     "text": [
      "0 1 [0, 0, 0] [100, 0, 0] [100, 0, 0] [50, 300, 0] 0\n",
      "1 2 [100, 0, 0] [200, 50, 0] [100, 50, 0] [-50, 300, 0] 0\n",
      "2 3 [200, 50, 0] [50, 100, 0] [-150, 50, 0] [-150, 250, 0] 0\n",
      "3 4 [50, 100, 0] [0, 75, 0] [-50, -25, 0] [0, 200, 0] 0\n",
      "4 5 [0, 75, 0] [0, 0, 0] [0, -75, 0] [50, 225, 0] 0\n"
     ]
    },
    {
     "data": {
      "text/plain": [
       "True"
      ]
     },
     "execution_count": 3,
     "metadata": {},
     "output_type": "execute_result"
    }
   ],
   "source": [
    "def triangle_area(point_1,point_2):\n",
    "    x1=point_1[0]\n",
    "    y1=point_1[1]\n",
    "    z1=point_1[2]\n",
    "    x2=point_1[0]\n",
    "    y2=point_1[1]\n",
    "    z2=point_1[2]\n",
    "    t_1=y1*z2-z1*y2\n",
    "    t_2=-(x1*z2-x2*z1)\n",
    "    t_3=x1*y2-x2*y1\n",
    "    return t_1+t_2+t_3\n",
    "\n",
    "def terzioglu_kampus():   #convex olmalı\n",
    "    border=[]\n",
    "    border.append([0,0,0])\n",
    "    border.append([100,0,0])\n",
    "    border.append([200,50,0])\n",
    "    border.append([50,100,0])\n",
    "    border.append([0,75,0])\n",
    "    return border\n",
    "terzioglu_kampus()\n",
    "\n",
    "def get_tuples_for_n(n):\n",
    "    return [(i,i+1) for i in range(n)]\n",
    "get_tuples_for_n(10)\n",
    "\n",
    "def get_diff_for_two_point(p0,p1):\n",
    "    return ([p0[0]-p1[0],p0[1]-p1[1],p0[2]-p1[2]])\n",
    "p0=[2,3,4]\n",
    "p1=[2,3,0]\n",
    "get_diff_for_two_point(p0,p1)\n",
    "\n",
    "def test_point_in_polygone(point_set,test_point):\n",
    "    status=True\n",
    "    kampus.append(kampus[0])\n",
    "    for edge_two_indis in get_tuples_for_n(len(kampus)-1):\n",
    "        i=edge_two_indis[0]\n",
    "        j=edge_two_indis[1]\n",
    "        p_0=kampus[i]\n",
    "        p_1=kampus[j]\n",
    "        point_p1_p0=get_diff_for_two_point(p_1,p_0)\n",
    "        point_test_p0=get_diff_for_two_point(test_point,p_0)\n",
    "        area=triangle_area(point_p1_p0,point_test_p0)\n",
    "        if(area<0):\n",
    "            status=False\n",
    "            print(i,j,p_0,p_1,point_p1_p0,point_test_p0,area,end=\"\")\n",
    "            print(\"*****  outside  ***************\")\n",
    "        else:\n",
    "            print(i,j,p_0,p_1,point_p1_p0,point_test_p0,area)\n",
    "    return status\n",
    "\n",
    "kampus=terzioglu_kampus()\n",
    "point=[50,300,0]\n",
    "test_point_in_polygone(kampus,point)    "
   ]
  },
  {
   "cell_type": "code",
   "execution_count": null,
   "metadata": {
    "collapsed": true
   },
   "outputs": [],
   "source": []
  },
  {
   "cell_type": "code",
   "execution_count": null,
   "metadata": {
    "collapsed": true
   },
   "outputs": [],
   "source": []
  }
 ],
 "metadata": {
  "kernelspec": {
   "display_name": "Python 3",
   "language": "python",
   "name": "python3"
  },
  "language_info": {
   "codemirror_mode": {
    "name": "ipython",
    "version": 3
   },
   "file_extension": ".py",
   "mimetype": "text/x-python",
   "name": "python",
   "nbconvert_exporter": "python",
   "pygments_lexer": "ipython3",
   "version": "3.6.1"
  }
 },
 "nbformat": 4,
 "nbformat_minor": 2
}
