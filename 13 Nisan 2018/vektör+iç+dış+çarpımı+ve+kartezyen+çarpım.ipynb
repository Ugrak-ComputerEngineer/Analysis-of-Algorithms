{
 "cells": [
  {
   "cell_type": "code",
   "execution_count": 11,
   "metadata": {},
   "outputs": [
    {
     "data": {
      "text/plain": [
       "array([[[[4, 1],\n",
       "         [2, 2]],\n",
       "\n",
       "        [[0, 0],\n",
       "         [0, 0]]],\n",
       "\n",
       "\n",
       "       [[[0, 0],\n",
       "         [0, 0]],\n",
       "\n",
       "        [[4, 1],\n",
       "         [2, 2]]]])"
      ]
     },
     "execution_count": 11,
     "metadata": {},
     "output_type": "execute_result"
    }
   ],
   "source": [
    "import numpy as np\n",
    "a = [[1, 0], [0, 1]]\n",
    "b = [[4, 1], [2, 2]]\n",
    "\n",
    "np.dot(a, b) # iç çarpım\n",
    "\n",
    "np.multiply.outer(a, b) # dış çarpım"
   ]
  },
  {
   "cell_type": "code",
   "execution_count": 28,
   "metadata": {},
   "outputs": [
    {
     "ename": "IndentationError",
     "evalue": "unindent does not match any outer indentation level (<ipython-input-28-b480fc7308f0>, line 7)",
     "output_type": "error",
     "traceback": [
      "\u001b[1;36m  File \u001b[1;32m\"<ipython-input-28-b480fc7308f0>\"\u001b[1;36m, line \u001b[1;32m7\u001b[0m\n\u001b[1;33m    for i in range(len(a)):\u001b[0m\n\u001b[1;37m                           ^\u001b[0m\n\u001b[1;31mIndentationError\u001b[0m\u001b[1;31m:\u001b[0m unindent does not match any outer indentation level\n"
     ]
    }
   ],
   "source": [
    "a = [[1, 0], [0, 1]]\n",
    "b = [[4, 1], [2, 2]]\n",
    "\n",
    "\n",
    "def dis_carpim2(a,b):\n",
    "    matris=[]\n",
    "    gecici=[]\n",
    "  for i in range(len(a)):\n",
    "    for j in range(len(a[0])):\n",
    "        gecici.append(carp(b,a[i][j]))\n",
    "        matris.append(gecici)\n",
    "    gecici = []\n",
    "    print(matris)\n",
    "dis_carpim2(a,b)"
   ]
  },
  {
   "cell_type": "code",
   "execution_count": 18,
   "metadata": {},
   "outputs": [
    {
     "name": "stdout",
     "output_type": "stream",
     "text": [
      "[[1, 4], [1, 1], [0, 2], [0, 2], [0, 4], [0, 1], [1, 2], [1, 2]]\n"
     ]
    }
   ],
   "source": [
    "a = [[1, 0], [0, 1]]\n",
    "b = [[4, 1], [2, 2]]\n",
    "\n",
    "\n",
    "def kartezyen(a,b):\n",
    "  matris=[]\n",
    "  gecici=[]\n",
    "  x=0\n",
    "  for i in a:\n",
    "    for j in b:\n",
    "      for k in range(len(j)):\n",
    "        gecici.append(i[x])\n",
    "        gecici.append(j[k])\n",
    "        matris.append(gecici)\n",
    "        gecici=[]\n",
    "      x=x+1\n",
    "    x=0\n",
    "  print(matris)\n",
    "  \n",
    "kartezyen(a,b)"
   ]
  },
  {
   "cell_type": "code",
   "execution_count": 1,
   "metadata": {},
   "outputs": [
    {
     "name": "stdout",
     "output_type": "stream",
     "text": [
      "[[[[4, 1], [2, 2]], [[0, 0], [0, 0]]], [[[0, 0], [0, 0]], [[4, 1], [2, 2]]]]\n",
      "[[1, 4], [1, 1], [0, 2], [0, 2], [0, 4], [0, 1], [1, 2], [1, 2]]\n"
     ]
    }
   ],
   "source": [
    "a = [[1, 0], [0, 1]]\n",
    "b = [[4, 1], [2, 2]]\n",
    " \n",
    "  \n",
    "def kartezyen(a,b):\n",
    "  matris=[]\n",
    "  gecici=[]\n",
    "  x=0\n",
    "  for i in a:\n",
    "    for j in b:\n",
    "      for k in range(len(j)):\n",
    "        gecici.append(i[x])\n",
    "        gecici.append(j[k])\n",
    "        matris.append(gecici)\n",
    "        gecici=[]\n",
    "      x=x+1\n",
    "    x=0\n",
    "  print(matris)\n",
    "\n",
    "def carp(liste, sayi):\n",
    "  vektor=[]\n",
    "  gecici=[]\n",
    "  for i in liste:\n",
    "    for j in range(len(i)):\n",
    "      gecici.append((i[j]*sayi))\n",
    "    vektor.append(gecici)\n",
    "    gecici=[]\n",
    "  return vektor\n",
    "\n",
    "def dis_carpim2(a,b):\n",
    "  matris=[]\n",
    "  gecici=[]\n",
    "  for i in range(len(a)):\n",
    "    for j in range(len(a[0])):\n",
    "      gecici.append(carp(b,a[i][j]))\n",
    "    matris.append(gecici)\n",
    "    gecici = []\n",
    "  print(matris)\n",
    "\n",
    "def ic_carp(a,b):\n",
    "  result=[]\n",
    "  toplam=0\n",
    "  # iterate through rows of X\n",
    "  for i in range(len(a)):\n",
    "    # iterate through columns of Y\n",
    "      for j in range(len(b[0])):\n",
    "        # iterate through rows of Y\n",
    "        for k in range(len(b)):\n",
    "            toplam += a[i][k] * b[k][j]\n",
    "        result.append(toplam)\n",
    "        toplam=0\n",
    "            \n",
    "ic_carp(a,b) \n",
    "dis_carpim2(a,b)\n",
    "kartezyen(a,b)"
   ]
  },
  {
   "cell_type": "code",
   "execution_count": null,
   "metadata": {
    "collapsed": true
   },
   "outputs": [],
   "source": [
    "#merge sort----->nlogn,nlogn,nlogn\n",
    "\n",
    "#quick sort----->nlogn,n**2,nlogn\n",
    "#(n memory)\n",
    "\n",
    "#heap sort karmaşıklık nlogn dir."
   ]
  }
 ],
 "metadata": {
  "kernelspec": {
   "display_name": "Python 3",
   "language": "python",
   "name": "python3"
  },
  "language_info": {
   "codemirror_mode": {
    "name": "ipython",
    "version": 3
   },
   "file_extension": ".py",
   "mimetype": "text/x-python",
   "name": "python",
   "nbconvert_exporter": "python",
   "pygments_lexer": "ipython3",
   "version": "3.6.1"
  }
 },
 "nbformat": 4,
 "nbformat_minor": 2
}
