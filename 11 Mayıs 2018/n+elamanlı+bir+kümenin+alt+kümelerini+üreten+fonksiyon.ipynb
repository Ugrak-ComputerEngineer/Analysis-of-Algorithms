{
 "cells": [
  {
   "cell_type": "code",
   "execution_count": null,
   "metadata": {
    "collapsed": true
   },
   "outputs": [],
   "source": [
    "  #1.A) n elamanlı bir kümenin alt kümelerini üreten fonksiyon\n",
    "  #1.B)en populer/önemli beş sürekli olasılık dağılımını çizdiren fonksiyon\n",
    "  #1.C)en populer/önemli beş kesikli olasılık dağılımını çizdiren fonksiyon\n",
    "    "
   ]
  },
  {
   "cell_type": "code",
   "execution_count": null,
   "metadata": {
    "collapsed": true
   },
   "outputs": [],
   "source": [
    "#1.A) n elamanlı bir kümenin alt kümelerini üreten fonksiyon"
   ]
  },
  {
   "cell_type": "code",
   "execution_count": 11,
   "metadata": {
    "collapsed": true
   },
   "outputs": [],
   "source": [
    "def getAllSubsets(lst):\n",
    "    if not lst:\n",
    "        return [[]]\n",
    "    withFirst = [ [lst[0]] + rest for rest in getAllSubsets(lst[1:]) ]\n",
    "    withoutFirst = getAllSubsets(lst[1:])\n",
    "    return withFirst + withoutFirst"
   ]
  },
  {
   "cell_type": "code",
   "execution_count": 16,
   "metadata": {},
   "outputs": [
    {
     "data": {
      "text/plain": [
       "[[0, 1, 2, 3],\n",
       " [0, 1, 2],\n",
       " [0, 1, 3],\n",
       " [0, 1],\n",
       " [0, 2, 3],\n",
       " [0, 2],\n",
       " [0, 3],\n",
       " [0],\n",
       " [1, 2, 3],\n",
       " [1, 2],\n",
       " [1, 3],\n",
       " [1],\n",
       " [2, 3],\n",
       " [2],\n",
       " [3],\n",
       " []]"
      ]
     },
     "execution_count": 16,
     "metadata": {},
     "output_type": "execute_result"
    }
   ],
   "source": [
    "getAllSubsets([0,1,2,3])"
   ]
  },
  {
   "cell_type": "code",
   "execution_count": null,
   "metadata": {
    "collapsed": true
   },
   "outputs": [],
   "source": []
  }
 ],
 "metadata": {
  "kernelspec": {
   "display_name": "Python 3",
   "language": "python",
   "name": "python3"
  },
  "language_info": {
   "codemirror_mode": {
    "name": "ipython",
    "version": 3
   },
   "file_extension": ".py",
   "mimetype": "text/x-python",
   "name": "python",
   "nbconvert_exporter": "python",
   "pygments_lexer": "ipython3",
   "version": "3.6.1"
  }
 },
 "nbformat": 4,
 "nbformat_minor": 2
}
